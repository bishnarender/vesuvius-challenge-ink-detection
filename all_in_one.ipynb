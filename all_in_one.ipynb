{
 "cells": [
  {
   "cell_type": "code",
   "execution_count": null,
   "id": "1923b052",
   "metadata": {},
   "outputs": [],
   "source": []
  },
  {
   "cell_type": "code",
   "execution_count": null,
   "id": "a054a062",
   "metadata": {},
   "outputs": [],
   "source": []
  },
  {
   "cell_type": "code",
   "execution_count": 2,
   "id": "600a26fb",
   "metadata": {},
   "outputs": [
    {
     "name": "stdout",
     "output_type": "stream",
     "text": [
      "\u001b[32m2023-08-07 16:24:51.005\u001b[0m | \u001b[1mINFO    \u001b[0m | \u001b[36m__main__\u001b[0m:\u001b[36mmain\u001b[0m:\u001b[36m26\u001b[0m - \u001b[1mProcessing inklabels.png ...\u001b[0m\n",
      "\u001b[32m2023-08-07 16:24:52.061\u001b[0m | \u001b[1mINFO    \u001b[0m | \u001b[36m__main__\u001b[0m:\u001b[36mmain\u001b[0m:\u001b[36m26\u001b[0m - \u001b[1mProcessing ir.png ...\u001b[0m\n",
      "\u001b[32m2023-08-07 16:24:54.373\u001b[0m | \u001b[1mINFO    \u001b[0m | \u001b[36m__main__\u001b[0m:\u001b[36mmain\u001b[0m:\u001b[36m26\u001b[0m - \u001b[1mProcessing mask.png ...\u001b[0m\n",
      "\u001b[32m2023-08-07 16:24:55.244\u001b[0m | \u001b[1mINFO    \u001b[0m | \u001b[36m__main__\u001b[0m:\u001b[36mmain\u001b[0m:\u001b[36m40\u001b[0m - \u001b[1mProcessing 00.tif ...\u001b[0m\n",
      "\u001b[32m2023-08-07 16:24:58.627\u001b[0m | \u001b[1mINFO    \u001b[0m | \u001b[36m__main__\u001b[0m:\u001b[36mmain\u001b[0m:\u001b[36m40\u001b[0m - \u001b[1mProcessing 01.tif ...\u001b[0m\n",
      "\u001b[32m2023-08-07 16:25:01.936\u001b[0m | \u001b[1mINFO    \u001b[0m | \u001b[36m__main__\u001b[0m:\u001b[36mmain\u001b[0m:\u001b[36m40\u001b[0m - \u001b[1mProcessing 02.tif ...\u001b[0m\n",
      "\u001b[32m2023-08-07 16:25:05.338\u001b[0m | \u001b[1mINFO    \u001b[0m | \u001b[36m__main__\u001b[0m:\u001b[36mmain\u001b[0m:\u001b[36m40\u001b[0m - \u001b[1mProcessing 03.tif ...\u001b[0m\n",
      "\u001b[32m2023-08-07 16:25:08.652\u001b[0m | \u001b[1mINFO    \u001b[0m | \u001b[36m__main__\u001b[0m:\u001b[36mmain\u001b[0m:\u001b[36m40\u001b[0m - \u001b[1mProcessing 04.tif ...\u001b[0m\n",
      "\u001b[32m2023-08-07 16:25:11.962\u001b[0m | \u001b[1mINFO    \u001b[0m | \u001b[36m__main__\u001b[0m:\u001b[36mmain\u001b[0m:\u001b[36m40\u001b[0m - \u001b[1mProcessing 05.tif ...\u001b[0m\n",
      "\u001b[32m2023-08-07 16:25:15.276\u001b[0m | \u001b[1mINFO    \u001b[0m | \u001b[36m__main__\u001b[0m:\u001b[36mmain\u001b[0m:\u001b[36m40\u001b[0m - \u001b[1mProcessing 06.tif ...\u001b[0m\n",
      "\u001b[32m2023-08-07 16:25:18.590\u001b[0m | \u001b[1mINFO    \u001b[0m | \u001b[36m__main__\u001b[0m:\u001b[36mmain\u001b[0m:\u001b[36m40\u001b[0m - \u001b[1mProcessing 07.tif ...\u001b[0m\n",
      "\u001b[32m2023-08-07 16:25:21.896\u001b[0m | \u001b[1mINFO    \u001b[0m | \u001b[36m__main__\u001b[0m:\u001b[36mmain\u001b[0m:\u001b[36m40\u001b[0m - \u001b[1mProcessing 08.tif ...\u001b[0m\n",
      "\u001b[32m2023-08-07 16:25:25.233\u001b[0m | \u001b[1mINFO    \u001b[0m | \u001b[36m__main__\u001b[0m:\u001b[36mmain\u001b[0m:\u001b[36m40\u001b[0m - \u001b[1mProcessing 09.tif ...\u001b[0m\n",
      "\u001b[32m2023-08-07 16:25:28.572\u001b[0m | \u001b[1mINFO    \u001b[0m | \u001b[36m__main__\u001b[0m:\u001b[36mmain\u001b[0m:\u001b[36m40\u001b[0m - \u001b[1mProcessing 10.tif ...\u001b[0m\n",
      "\u001b[32m2023-08-07 16:25:31.872\u001b[0m | \u001b[1mINFO    \u001b[0m | \u001b[36m__main__\u001b[0m:\u001b[36mmain\u001b[0m:\u001b[36m40\u001b[0m - \u001b[1mProcessing 11.tif ...\u001b[0m\n",
      "\u001b[32m2023-08-07 16:25:35.246\u001b[0m | \u001b[1mINFO    \u001b[0m | \u001b[36m__main__\u001b[0m:\u001b[36mmain\u001b[0m:\u001b[36m40\u001b[0m - \u001b[1mProcessing 12.tif ...\u001b[0m\n",
      "\u001b[32m2023-08-07 16:25:38.578\u001b[0m | \u001b[1mINFO    \u001b[0m | \u001b[36m__main__\u001b[0m:\u001b[36mmain\u001b[0m:\u001b[36m40\u001b[0m - \u001b[1mProcessing 13.tif ...\u001b[0m\n",
      "\u001b[32m2023-08-07 16:25:41.909\u001b[0m | \u001b[1mINFO    \u001b[0m | \u001b[36m__main__\u001b[0m:\u001b[36mmain\u001b[0m:\u001b[36m40\u001b[0m - \u001b[1mProcessing 14.tif ...\u001b[0m\n",
      "\u001b[32m2023-08-07 16:25:45.249\u001b[0m | \u001b[1mINFO    \u001b[0m | \u001b[36m__main__\u001b[0m:\u001b[36mmain\u001b[0m:\u001b[36m40\u001b[0m - \u001b[1mProcessing 15.tif ...\u001b[0m\n",
      "\u001b[32m2023-08-07 16:25:48.611\u001b[0m | \u001b[1mINFO    \u001b[0m | \u001b[36m__main__\u001b[0m:\u001b[36mmain\u001b[0m:\u001b[36m40\u001b[0m - \u001b[1mProcessing 16.tif ...\u001b[0m\n",
      "\u001b[32m2023-08-07 16:25:51.925\u001b[0m | \u001b[1mINFO    \u001b[0m | \u001b[36m__main__\u001b[0m:\u001b[36mmain\u001b[0m:\u001b[36m40\u001b[0m - \u001b[1mProcessing 17.tif ...\u001b[0m\n",
      "\u001b[32m2023-08-07 16:25:55.239\u001b[0m | \u001b[1mINFO    \u001b[0m | \u001b[36m__main__\u001b[0m:\u001b[36mmain\u001b[0m:\u001b[36m40\u001b[0m - \u001b[1mProcessing 18.tif ...\u001b[0m\n",
      "\u001b[32m2023-08-07 16:25:58.570\u001b[0m | \u001b[1mINFO    \u001b[0m | \u001b[36m__main__\u001b[0m:\u001b[36mmain\u001b[0m:\u001b[36m40\u001b[0m - \u001b[1mProcessing 19.tif ...\u001b[0m\n",
      "\u001b[32m2023-08-07 16:26:01.879\u001b[0m | \u001b[1mINFO    \u001b[0m | \u001b[36m__main__\u001b[0m:\u001b[36mmain\u001b[0m:\u001b[36m40\u001b[0m - \u001b[1mProcessing 20.tif ...\u001b[0m\n",
      "\u001b[32m2023-08-07 16:26:06.062\u001b[0m | \u001b[1mINFO    \u001b[0m | \u001b[36m__main__\u001b[0m:\u001b[36mmain\u001b[0m:\u001b[36m40\u001b[0m - \u001b[1mProcessing 21.tif ...\u001b[0m\n",
      "\u001b[32m2023-08-07 16:26:09.514\u001b[0m | \u001b[1mINFO    \u001b[0m | \u001b[36m__main__\u001b[0m:\u001b[36mmain\u001b[0m:\u001b[36m40\u001b[0m - \u001b[1mProcessing 22.tif ...\u001b[0m\n",
      "\u001b[32m2023-08-07 16:26:13.200\u001b[0m | \u001b[1mINFO    \u001b[0m | \u001b[36m__main__\u001b[0m:\u001b[36mmain\u001b[0m:\u001b[36m40\u001b[0m - \u001b[1mProcessing 23.tif ...\u001b[0m\n",
      "\u001b[32m2023-08-07 16:26:16.543\u001b[0m | \u001b[1mINFO    \u001b[0m | \u001b[36m__main__\u001b[0m:\u001b[36mmain\u001b[0m:\u001b[36m40\u001b[0m - \u001b[1mProcessing 24.tif ...\u001b[0m\n",
      "\u001b[32m2023-08-07 16:26:19.971\u001b[0m | \u001b[1mINFO    \u001b[0m | \u001b[36m__main__\u001b[0m:\u001b[36mmain\u001b[0m:\u001b[36m40\u001b[0m - \u001b[1mProcessing 25.tif ...\u001b[0m\n",
      "\u001b[32m2023-08-07 16:26:23.294\u001b[0m | \u001b[1mINFO    \u001b[0m | \u001b[36m__main__\u001b[0m:\u001b[36mmain\u001b[0m:\u001b[36m40\u001b[0m - \u001b[1mProcessing 26.tif ...\u001b[0m\n",
      "\u001b[32m2023-08-07 16:26:26.608\u001b[0m | \u001b[1mINFO    \u001b[0m | \u001b[36m__main__\u001b[0m:\u001b[36mmain\u001b[0m:\u001b[36m40\u001b[0m - \u001b[1mProcessing 27.tif ...\u001b[0m\n",
      "\u001b[32m2023-08-07 16:26:30.022\u001b[0m | \u001b[1mINFO    \u001b[0m | \u001b[36m__main__\u001b[0m:\u001b[36mmain\u001b[0m:\u001b[36m40\u001b[0m - \u001b[1mProcessing 28.tif ...\u001b[0m\n",
      "\u001b[32m2023-08-07 16:26:33.336\u001b[0m | \u001b[1mINFO    \u001b[0m | \u001b[36m__main__\u001b[0m:\u001b[36mmain\u001b[0m:\u001b[36m40\u001b[0m - \u001b[1mProcessing 29.tif ...\u001b[0m\n",
      "\u001b[32m2023-08-07 16:26:36.652\u001b[0m | \u001b[1mINFO    \u001b[0m | \u001b[36m__main__\u001b[0m:\u001b[36mmain\u001b[0m:\u001b[36m40\u001b[0m - \u001b[1mProcessing 30.tif ...\u001b[0m\n",
      "\u001b[32m2023-08-07 16:26:39.975\u001b[0m | \u001b[1mINFO    \u001b[0m | \u001b[36m__main__\u001b[0m:\u001b[36mmain\u001b[0m:\u001b[36m40\u001b[0m - \u001b[1mProcessing 31.tif ...\u001b[0m\n",
      "\u001b[32m2023-08-07 16:26:43.299\u001b[0m | \u001b[1mINFO    \u001b[0m | \u001b[36m__main__\u001b[0m:\u001b[36mmain\u001b[0m:\u001b[36m40\u001b[0m - \u001b[1mProcessing 32.tif ...\u001b[0m\n",
      "\u001b[32m2023-08-07 16:26:46.616\u001b[0m | \u001b[1mINFO    \u001b[0m | \u001b[36m__main__\u001b[0m:\u001b[36mmain\u001b[0m:\u001b[36m40\u001b[0m - \u001b[1mProcessing 33.tif ...\u001b[0m\n",
      "\u001b[32m2023-08-07 16:26:49.943\u001b[0m | \u001b[1mINFO    \u001b[0m | \u001b[36m__main__\u001b[0m:\u001b[36mmain\u001b[0m:\u001b[36m40\u001b[0m - \u001b[1mProcessing 34.tif ...\u001b[0m\n",
      "\u001b[32m2023-08-07 16:26:53.296\u001b[0m | \u001b[1mINFO    \u001b[0m | \u001b[36m__main__\u001b[0m:\u001b[36mmain\u001b[0m:\u001b[36m40\u001b[0m - \u001b[1mProcessing 35.tif ...\u001b[0m\n",
      "\u001b[32m2023-08-07 16:26:56.613\u001b[0m | \u001b[1mINFO    \u001b[0m | \u001b[36m__main__\u001b[0m:\u001b[36mmain\u001b[0m:\u001b[36m40\u001b[0m - \u001b[1mProcessing 36.tif ...\u001b[0m\n",
      "\u001b[32m2023-08-07 16:27:00.252\u001b[0m | \u001b[1mINFO    \u001b[0m | \u001b[36m__main__\u001b[0m:\u001b[36mmain\u001b[0m:\u001b[36m40\u001b[0m - \u001b[1mProcessing 37.tif ...\u001b[0m\n",
      "\u001b[32m2023-08-07 16:27:03.545\u001b[0m | \u001b[1mINFO    \u001b[0m | \u001b[36m__main__\u001b[0m:\u001b[36mmain\u001b[0m:\u001b[36m40\u001b[0m - \u001b[1mProcessing 38.tif ...\u001b[0m\n",
      "\u001b[32m2023-08-07 16:27:06.855\u001b[0m | \u001b[1mINFO    \u001b[0m | \u001b[36m__main__\u001b[0m:\u001b[36mmain\u001b[0m:\u001b[36m40\u001b[0m - \u001b[1mProcessing 39.tif ...\u001b[0m\n",
      "\u001b[32m2023-08-07 16:27:10.109\u001b[0m | \u001b[1mINFO    \u001b[0m | \u001b[36m__main__\u001b[0m:\u001b[36mmain\u001b[0m:\u001b[36m40\u001b[0m - \u001b[1mProcessing 40.tif ...\u001b[0m\n",
      "\u001b[32m2023-08-07 16:27:13.545\u001b[0m | \u001b[1mINFO    \u001b[0m | \u001b[36m__main__\u001b[0m:\u001b[36mmain\u001b[0m:\u001b[36m40\u001b[0m - \u001b[1mProcessing 41.tif ...\u001b[0m\n",
      "\u001b[32m2023-08-07 16:27:16.748\u001b[0m | \u001b[1mINFO    \u001b[0m | \u001b[36m__main__\u001b[0m:\u001b[36mmain\u001b[0m:\u001b[36m40\u001b[0m - \u001b[1mProcessing 42.tif ...\u001b[0m\n",
      "\u001b[32m2023-08-07 16:27:19.965\u001b[0m | \u001b[1mINFO    \u001b[0m | \u001b[36m__main__\u001b[0m:\u001b[36mmain\u001b[0m:\u001b[36m40\u001b[0m - \u001b[1mProcessing 43.tif ...\u001b[0m\n",
      "\u001b[32m2023-08-07 16:27:23.178\u001b[0m | \u001b[1mINFO    \u001b[0m | \u001b[36m__main__\u001b[0m:\u001b[36mmain\u001b[0m:\u001b[36m40\u001b[0m - \u001b[1mProcessing 44.tif ...\u001b[0m\n",
      "\u001b[32m2023-08-07 16:27:26.354\u001b[0m | \u001b[1mINFO    \u001b[0m | \u001b[36m__main__\u001b[0m:\u001b[36mmain\u001b[0m:\u001b[36m40\u001b[0m - \u001b[1mProcessing 45.tif ...\u001b[0m\n",
      "\u001b[32m2023-08-07 16:27:30.347\u001b[0m | \u001b[1mINFO    \u001b[0m | \u001b[36m__main__\u001b[0m:\u001b[36mmain\u001b[0m:\u001b[36m40\u001b[0m - \u001b[1mProcessing 46.tif ...\u001b[0m\n",
      "\u001b[32m2023-08-07 16:27:34.260\u001b[0m | \u001b[1mINFO    \u001b[0m | \u001b[36m__main__\u001b[0m:\u001b[36mmain\u001b[0m:\u001b[36m40\u001b[0m - \u001b[1mProcessing 47.tif ...\u001b[0m\n",
      "\u001b[32m2023-08-07 16:27:37.471\u001b[0m | \u001b[1mINFO    \u001b[0m | \u001b[36m__main__\u001b[0m:\u001b[36mmain\u001b[0m:\u001b[36m40\u001b[0m - \u001b[1mProcessing 48.tif ...\u001b[0m\n",
      "\u001b[32m2023-08-07 16:27:41.599\u001b[0m | \u001b[1mINFO    \u001b[0m | \u001b[36m__main__\u001b[0m:\u001b[36mmain\u001b[0m:\u001b[36m40\u001b[0m - \u001b[1mProcessing 49.tif ...\u001b[0m\n",
      "\u001b[32m2023-08-07 16:27:44.794\u001b[0m | \u001b[1mINFO    \u001b[0m | \u001b[36m__main__\u001b[0m:\u001b[36mmain\u001b[0m:\u001b[36m40\u001b[0m - \u001b[1mProcessing 50.tif ...\u001b[0m\n",
      "\u001b[32m2023-08-07 16:27:47.998\u001b[0m | \u001b[1mINFO    \u001b[0m | \u001b[36m__main__\u001b[0m:\u001b[36mmain\u001b[0m:\u001b[36m40\u001b[0m - \u001b[1mProcessing 51.tif ...\u001b[0m\n",
      "\u001b[32m2023-08-07 16:27:51.145\u001b[0m | \u001b[1mINFO    \u001b[0m | \u001b[36m__main__\u001b[0m:\u001b[36mmain\u001b[0m:\u001b[36m40\u001b[0m - \u001b[1mProcessing 52.tif ...\u001b[0m\n",
      "\u001b[32m2023-08-07 16:27:54.856\u001b[0m | \u001b[1mINFO    \u001b[0m | \u001b[36m__main__\u001b[0m:\u001b[36mmain\u001b[0m:\u001b[36m40\u001b[0m - \u001b[1mProcessing 53.tif ...\u001b[0m\n",
      "\u001b[32m2023-08-07 16:27:58.067\u001b[0m | \u001b[1mINFO    \u001b[0m | \u001b[36m__main__\u001b[0m:\u001b[36mmain\u001b[0m:\u001b[36m40\u001b[0m - \u001b[1mProcessing 54.tif ...\u001b[0m\n",
      "\u001b[32m2023-08-07 16:28:01.312\u001b[0m | \u001b[1mINFO    \u001b[0m | \u001b[36m__main__\u001b[0m:\u001b[36mmain\u001b[0m:\u001b[36m40\u001b[0m - \u001b[1mProcessing 55.tif ...\u001b[0m\n",
      "\u001b[32m2023-08-07 16:28:04.983\u001b[0m | \u001b[1mINFO    \u001b[0m | \u001b[36m__main__\u001b[0m:\u001b[36mmain\u001b[0m:\u001b[36m40\u001b[0m - \u001b[1mProcessing 56.tif ...\u001b[0m\n",
      "\u001b[32m2023-08-07 16:28:08.169\u001b[0m | \u001b[1mINFO    \u001b[0m | \u001b[36m__main__\u001b[0m:\u001b[36mmain\u001b[0m:\u001b[36m40\u001b[0m - \u001b[1mProcessing 57.tif ...\u001b[0m\n",
      "\u001b[32m2023-08-07 16:28:11.362\u001b[0m | \u001b[1mINFO    \u001b[0m | \u001b[36m__main__\u001b[0m:\u001b[36mmain\u001b[0m:\u001b[36m40\u001b[0m - \u001b[1mProcessing 58.tif ...\u001b[0m\n",
      "\u001b[32m2023-08-07 16:28:14.592\u001b[0m | \u001b[1mINFO    \u001b[0m | \u001b[36m__main__\u001b[0m:\u001b[36mmain\u001b[0m:\u001b[36m40\u001b[0m - \u001b[1mProcessing 59.tif ...\u001b[0m\n"
     ]
    },
    {
     "name": "stdout",
     "output_type": "stream",
     "text": [
      "\u001b[32m2023-08-07 16:28:17.758\u001b[0m | \u001b[1mINFO    \u001b[0m | \u001b[36m__main__\u001b[0m:\u001b[36mmain\u001b[0m:\u001b[36m40\u001b[0m - \u001b[1mProcessing 60.tif ...\u001b[0m\n",
      "\u001b[32m2023-08-07 16:28:21.476\u001b[0m | \u001b[1mINFO    \u001b[0m | \u001b[36m__main__\u001b[0m:\u001b[36mmain\u001b[0m:\u001b[36m40\u001b[0m - \u001b[1mProcessing 61.tif ...\u001b[0m\n",
      "\u001b[32m2023-08-07 16:28:24.665\u001b[0m | \u001b[1mINFO    \u001b[0m | \u001b[36m__main__\u001b[0m:\u001b[36mmain\u001b[0m:\u001b[36m40\u001b[0m - \u001b[1mProcessing 62.tif ...\u001b[0m\n",
      "\u001b[32m2023-08-07 16:28:27.811\u001b[0m | \u001b[1mINFO    \u001b[0m | \u001b[36m__main__\u001b[0m:\u001b[36mmain\u001b[0m:\u001b[36m40\u001b[0m - \u001b[1mProcessing 63.tif ...\u001b[0m\n",
      "\u001b[32m2023-08-07 16:28:31.482\u001b[0m | \u001b[1mINFO    \u001b[0m | \u001b[36m__main__\u001b[0m:\u001b[36mmain\u001b[0m:\u001b[36m40\u001b[0m - \u001b[1mProcessing 64.tif ...\u001b[0m\n"
     ]
    }
   ],
   "source": [
    "!python utils/preprocess.py"
   ]
  },
  {
   "cell_type": "code",
   "execution_count": null,
   "id": "affc53a5",
   "metadata": {},
   "outputs": [],
   "source": []
  },
  {
   "cell_type": "code",
   "execution_count": 7,
   "id": "7ea79c18",
   "metadata": {},
   "outputs": [
    {
     "name": "stdout",
     "output_type": "stream",
     "text": [
      "  0%|                                                     | 0/3 [00:00<?, ?it/s]/home/na/miniconda3/envs/base_2/lib/python3.7/site-packages/PIL/Image.py:3179: DecompressionBombWarning: Image size (140973980 pixels) exceeds limit of 89478485 pixels, could be decompression bomb DOS attack.\n",
      "  DecompressionBombWarning,\n",
      "100%|████████████████████████████████████████████| 3/3 [06:27<00:00, 129.04s/it]\n"
     ]
    }
   ],
   "source": [
    "!python utils/make_patch_32.py"
   ]
  },
  {
   "cell_type": "code",
   "execution_count": null,
   "id": "1c83e635",
   "metadata": {},
   "outputs": [],
   "source": []
  },
  {
   "cell_type": "code",
   "execution_count": 13,
   "id": "234135d2",
   "metadata": {},
   "outputs": [
    {
     "name": "stdout",
     "output_type": "stream",
     "text": [
      " 46%|█████████████████▍                    | 6815/14830 [02:37<03:05, 43.32it/s]\n",
      " 47%|██████████████████▎                    | 3754/8014 [00:47<00:54, 78.63it/s]\n",
      "10571\n"
     ]
    }
   ],
   "source": [
    "!python utils/split_fragment2.py"
   ]
  },
  {
   "cell_type": "code",
   "execution_count": null,
   "id": "7145abad",
   "metadata": {},
   "outputs": [],
   "source": []
  },
  {
   "cell_type": "code",
   "execution_count": 14,
   "id": "ff3d3c14",
   "metadata": {},
   "outputs": [
    {
     "name": "stdout",
     "output_type": "stream",
     "text": [
      "100%|█████████████████████████████████████████████| 5/5 [06:35<00:00, 79.15s/it]\n"
     ]
    }
   ],
   "source": [
    "!python utils/make_patch_32_5fold.py"
   ]
  },
  {
   "cell_type": "code",
   "execution_count": null,
   "id": "7037b25b",
   "metadata": {},
   "outputs": [],
   "source": []
  },
  {
   "cell_type": "code",
   "execution_count": null,
   "id": "20d2cf7c",
   "metadata": {},
   "outputs": [],
   "source": []
  },
  {
   "cell_type": "markdown",
   "id": "39c9a7aa",
   "metadata": {},
   "source": [
    "### Pretrained Weights"
   ]
  },
  {
   "cell_type": "code",
   "execution_count": null,
   "id": "0c717288",
   "metadata": {},
   "outputs": [],
   "source": [
    "# https://download.openmmlab.com/mmaction/recognition/csn/vmz/vmz_ircsn_ig65m_pretrained_r50_32x2x1_58e_kinetics400_rgb_20210617-86d33018.pth\n",
    "# https://download.openmmlab.com/mmaction/v1.0/recognition/csn/ircsn_ig65m-pretrained-r152_8xb12-32x2x1-58e_kinetics400-rgb/ircsn_ig65m-pretrained-r152_8xb12-32x2x1-58e_kinetics400-rgb_20220811-c7a3cc5b.pth"
   ]
  },
  {
   "cell_type": "code",
   "execution_count": null,
   "id": "8c9c048e",
   "metadata": {},
   "outputs": [],
   "source": []
  },
  {
   "cell_type": "markdown",
   "id": "cd5fe252",
   "metadata": {},
   "source": [
    "### train_patch_based"
   ]
  },
  {
   "cell_type": "code",
   "execution_count": null,
   "id": "e56d2bbd",
   "metadata": {},
   "outputs": [],
   "source": []
  },
  {
   "cell_type": "code",
   "execution_count": null,
   "id": "3a1ffc12",
   "metadata": {},
   "outputs": [],
   "source": [
    "# fold 0 and fold 1 (different seed)\n",
    "\n",
    "#python train_patch_based/train.py --seed 6022 --model_name swinv2_tiny_window8_256.ms_in1k --drop_rate 0.4 --drop_path_rate 0.2 --num_3d_layer 3 --in_chans 5 \\\n",
    "#    --mixup_p 0.5 --mixup_alpha 0.2  --lr 2e-4  --batch_size 12 --image_size 256 --start_z 15 --end_z -15 --shift_z 2 \\\n",
    "#    --fold 0 --gpus 4 --epochs 30 --logdir swinv2_tiny_window8_256_split3d5x7csn_mixup_ep30 --num_workers 6\n",
    "\n",
    "#python eval_tta_fp16.py --seed 2022 --batch_size 16 --image_size 256 --fold 0 --logdir swinv2_tiny_window8_256_split3d5x7csn_mixup_ep30 --num_workers 6"
   ]
  },
  {
   "cell_type": "code",
   "execution_count": null,
   "id": "f1981866",
   "metadata": {},
   "outputs": [],
   "source": [
    "# fold 0 and fold 1 (different seed)\n",
    "\n",
    "#python train_patch_based/train.py --seed 7022 --model_name swinv2_tiny_window8_256.ms_in1k --drop_rate 0.4 --drop_path_rate 0.2 --num_3d_layer 6 --in_chans 3 \\\n",
    "#    --mixup_p 0.5 --mixup_alpha 0.2  --lr 2e-4  --batch_size 12 --image_size 256 --start_z 19 --end_z -19 --shift_z 2 \\\n",
    "#    --fold 0 --gpus 4 --epochs 30 --logdir swinv2_tiny_window8_256_split3d3x9csn_l6_mixup_ep30 --num_workers 6\n",
    "\n",
    "#python eval_tta_fp16.py --seed 2022 --batch_size 16 --image_size 256 --fold 0 --logdir swinv2_tiny_window8_256_split3d3x9csn_l6_mixup_ep30 --num_workers 6"
   ]
  },
  {
   "cell_type": "code",
   "execution_count": null,
   "id": "44d4616f",
   "metadata": {},
   "outputs": [],
   "source": [
    "# fold 0 and fold 1 (different seed)\n",
    "\n",
    "#python train_patch_based/train.py --seed 2022 --model_name resnext50d_32x4d --drop_rate 0.4 --drop_path_rate 0.2 --num_3d_layer 6 --in_chans 3 \\\n",
    "#    --mixup_p 0.5 --mixup_alpha 0.2 --lr 0.25e-3   --batch_size 16 --image_size 256 --start_z 19 --end_z -19 --shift_z 2 \\\n",
    "#    --fold 0 --gpus 1 --epochs 15 --logdir resnext50d_32x4d_split3d3x9csn_l6_mixup_ep15 --num_workers 6\n",
    "\n",
    "#python eval_tta.py --seed 2022 --batch_size 16 --image_size 256 --fold 0 --logdir resnext50d_32x4d_split3d3x9csn_l6_mixup_ep15 --num_workers 6"
   ]
  },
  {
   "cell_type": "code",
   "execution_count": null,
   "id": "f6b387f8",
   "metadata": {},
   "outputs": [],
   "source": [
    "# fold 0 and fold 1 (different seed)\n",
    "\n",
    "#python train_patch_based/train.py --seed 2022 --model_name resnetrs50 --drop_rate 0.4 --drop_path_rate 0.2 --num_3d_layer 3 --in_chans 5 \\\n",
    "#    --mixup_p 0.5 --mixup_alpha 0.2 --lr 1e-3  --batch_size 16 --image_size 256 --start_z 15 --end_z -15 --shift_z 2 \\\n",
    "#    --fold 0 --gpus 4 --epochs 30 --logdir resnetrs50_split3d5x7csn_mixup_ep30 --num_workers 6\n",
    "\n",
    "#python eval_tta_fp16.py --seed 2022 --batch_size 16 --image_size 256 --fold 0 --logdir resnetrs50_split3d5x7csn_mixup_ep30 --num_workers 6"
   ]
  },
  {
   "cell_type": "code",
   "execution_count": null,
   "id": "04cd6b2f",
   "metadata": {},
   "outputs": [],
   "source": [
    "# fold 0 and fold 1 (different seed)\n",
    "\n",
    "#python train_patch_based/train.py --seed 3022 --model_name resnetrs50 --drop_rate 0.4 --drop_path_rate 0.2 --num_3d_layer 6 --in_chans 3 \\\n",
    "#    --mixup_p 0.5 --mixup_alpha 0.2 --lr 1e-3   --batch_size 16 --image_size 256 --start_z 19 --end_z -19 --shift_z 2 \\\n",
    "#    --fold 0 --gpus 4 --epochs 30 --logdir resnetrs50_split3d3x9csn_l6_mixup_ep30 --num_workers 6\n",
    "\n",
    "#python eval_tta_fp16.py --seed 2022 --batch_size 16 --image_size 256 --fold 0 --logdir resnetrs50_split3d3x9csn_l6_mixup_ep30 --num_workers 6\n"
   ]
  },
  {
   "cell_type": "code",
   "execution_count": null,
   "id": "23a3af37",
   "metadata": {},
   "outputs": [],
   "source": [
    "# fold 0 and fold 1 (different seed)\n",
    "\n",
    "#python train_patch_based/train.py --seed 4022 --model_name convnext_tiny.fb_in1k --drop_rate 0.4 --drop_path_rate 0.2 --num_3d_layer 3 --in_chans 5 \\\n",
    "#    --mixup_p 0.5 --mixup_alpha 0.2  --lr 1e-3  --batch_size 16 --image_size 256 --start_z 15 --end_z -15 --shift_z 2 \\\n",
    "#    --fold 0 --gpus 4 --epochs 30 --logdir convnext_tiny_split3d5x7csn_mixup_ep30 --num_workers 6\n",
    "\n",
    "#python eval_tta_fp16.py --seed 2022 --batch_size 16 --image_size 256 --fold 0 --logdir convnext_tiny_split3d5x7csn_mixup_ep30 --num_workers 6"
   ]
  },
  {
   "cell_type": "code",
   "execution_count": 67,
   "id": "4963c0e1",
   "metadata": {},
   "outputs": [
    {
     "name": "stdout",
     "output_type": "stream",
     "text": [
      "Global seed set to 5022\n",
      "logdir = logs/exp_train_patch_based/convnext_tiny_split3d3x9csn_l6_mixup_ep30/fold0\n",
      "Using 16bit None Automatic Mixed Precision (AMP)\n",
      "GPU available: True (cuda), used: True\n",
      "TPU available: False, using: 0 TPU cores\n",
      "IPU available: False, using: 0 IPUs\n",
      "HPU available: False, using: 0 HPUs\n",
      "[rank: 0] Global seed set to 5022\n",
      "Initializing distributed: GLOBAL_RANK: 0, MEMBER: 1/1\n",
      "----------------------------------------------------------------------------------------------------\n",
      "distributed_backend=nccl\n",
      "All distributed processes registered. Starting with 1 processes\n",
      "----------------------------------------------------------------------------------------------------\n",
      "\n",
      "You are using a CUDA device ('NVIDIA GeForce RTX 3050') that has Tensor Cores. To properly utilize them, you should set `torch.set_float32_matmul_precision('medium' | 'high')` which will trade-off precision for performance. For more details, read https://pytorch.org/docs/stable/generated/torch.set_float32_matmul_precision.html#torch.set_float32_matmul_precision\n",
      "LOCAL_RANK: 0 - CUDA_VISIBLE_DEVICES: [0]\n",
      "Loading `train_dataloader` to estimate number of stepping batches.\n",
      "max_train_steps: 93750, warmup_steps: 1875\n",
      "\n",
      "  | Name      | Type        | Params\n",
      "------------------------------------------\n",
      "0 | model     | InkDetModel | 35.1 M\n",
      "1 | model_ema | ModelEmaV2  | 35.1 M\n",
      "------------------------------------------\n",
      "70.3 M    Trainable params\n",
      "0         Non-trainable params\n",
      "70.3 M    Total params\n",
      "140.555   Total estimated model params size (MB)\n",
      "Epoch 0: 100%|███████| 6125/6125 [1:26:27<00:00,  1.18it/s, loss=1.32, v_num=40]\n",
      "epoch 0: fbeta_score 0.05410487284840586, threshold 0.5\n",
      "Epoch 1: 100%|████████| 6125/6125 [1:26:29<00:00,  1.18it/s, loss=1.3, v_num=40]\n",
      "epoch 1: fbeta_score 0.18004102277760015, threshold 0.5\n",
      "Epoch 2:   7%|▌       | 406/6125 [10:22<2:26:03,  1.53s/it, loss=1.32, v_num=40]^C\n"
     ]
    }
   ],
   "source": [
    "# fold 0 and fold 1 (different seed)\n",
    "# convnext_tiny_split3d3x9csn_l6_mixup_ep30 => --num_3d_layer 6, --in_chans 3\n",
    "\n",
    "!python train_patch_based/train.py --seed 5022 --model_name convnext_tiny.fb_in1k --drop_rate 0.4 --drop_path_rate 0.2 --num_3d_layer 6 --in_chans 3 \\\n",
    "    --mixup_p 0.5 --mixup_alpha 0.2  --lr 1e-3  --batch_size 8 --image_size 256 --start_z 10 --end_z -4 --shift_z 2 \\\n",
    "    --fold 0 --gpus 1 --epochs 30 --logdir convnext_tiny_split3d3x9csn_l6_mixup_ep30 --num_workers 6\n",
    "# start_z 19, end_z -19, batch_size 16"
   ]
  },
  {
   "cell_type": "code",
   "execution_count": 91,
   "id": "759ed5c5",
   "metadata": {},
   "outputs": [
    {
     "name": "stdout",
     "output_type": "stream",
     "text": [
      "Global seed set to 2022\n",
      "ckpt_path = logs/exp_train_patch_based/convnext_tiny_split3d3x9csn_l6_mixup_ep30/fold0/exp_train_patch_based/convnext_tiny_split3d3x9csn_l6_mixup_ep30_fold0/version_11/checkpoints/best_fbeta.ckpt\n",
      "  5%|██▏                                      | 98/1822 [00:16<03:58,  7.22it/s]^C\n",
      "  5%|██▏                                      | 98/1822 [00:16<04:58,  5.78it/s]\n",
      "Traceback (most recent call last):\n",
      "  File \"train_patch_based/eval_tta_fp16.py\", line 264, in <module>\n",
      "    main(get_args())\n",
      "  File \"train_patch_based/eval_tta_fp16.py\", line 183, in main\n",
      "    volume_new = volume.to(device)\n",
      "KeyboardInterrupt\n"
     ]
    }
   ],
   "source": [
    "!python train_patch_based/eval_tta_fp16.py --seed 2022 --batch_size 16 --image_size 256 --fold 0 --logdir convnext_tiny_split3d3x9csn_l6_mixup_ep30 --num_workers 6"
   ]
  },
  {
   "cell_type": "code",
   "execution_count": null,
   "id": "694e3be9",
   "metadata": {},
   "outputs": [],
   "source": []
  },
  {
   "cell_type": "code",
   "execution_count": null,
   "id": "af72c6ee",
   "metadata": {},
   "outputs": [],
   "source": []
  },
  {
   "cell_type": "markdown",
   "id": "3ebd6840",
   "metadata": {},
   "source": [
    "### train_patch_based_1"
   ]
  },
  {
   "cell_type": "code",
   "execution_count": null,
   "id": "05a4b9e3",
   "metadata": {},
   "outputs": [],
   "source": []
  },
  {
   "cell_type": "code",
   "execution_count": null,
   "id": "75ca501d",
   "metadata": {},
   "outputs": [],
   "source": [
    "# fold 0 and fold 1 (different seed)\n",
    "\n",
    "#python train_patch_based_1/train.py --seed 2022 --drop_path_rate 0.2 --mixup_p 0.5 --mixup_alpha 0.2 --lr 1e-3 --backbone_lr 2e-4 --in_chans 1 --batch_size 16 --image_size 192 --start_z 16 --end_z -17 --shift_z 2 \\\n",
    "#    --fold 0 --gpus 4 --epochs 30 --logdir resnet3d50csnir1x32_mixup_ep30 --num_workers 6\n",
    "\n",
    "#python eval_tta_fp16.py --seed 2022 --batch_size 16 --image_size 192 --fold 0 --logdir resnet3d50csnir1x32_mixup_ep30 --num_workers 6"
   ]
  },
  {
   "cell_type": "code",
   "execution_count": 109,
   "id": "bef5d114",
   "metadata": {},
   "outputs": [
    {
     "name": "stdout",
     "output_type": "stream",
     "text": [
      "Global seed set to 8022\n",
      "load pretrained weight libs/pretrained/ircsn_ig65m-pretrained-r152_8xb12-32x2x1-58e_kinetics400-rgb_20220811-c7a3cc5b.pth!!!\n",
      "Transferred 929/944 items from libs/pretrained/ircsn_ig65m-pretrained-r152_8xb12-32x2x1-58e_kinetics400-rgb_20220811-c7a3cc5b.pth\n",
      "logdir = logs/exp_train_patch_based_1/resnet3d152csnir1x24_mixup_ep30/fold0\n",
      "Using 16bit None Automatic Mixed Precision (AMP)\n",
      "GPU available: True (cuda), used: True\n",
      "TPU available: False, using: 0 TPU cores\n",
      "IPU available: False, using: 0 IPUs\n",
      "HPU available: False, using: 0 HPUs\n"
     ]
    }
   ],
   "source": [
    "# fold 0 and fold 1 (different seed)\n",
    "\n",
    "!python train_patch_based_1/train.py --seed 8022 --depth 152 --drop_path_rate 0.2 --mixup_p 0.5 --mixup_alpha 0.2 --lr 1e-3 --backbone_lr 2e-4 --in_chans 1 --batch_size 8 --image_size 192 --start_z 10 --end_z -4 --shift_z 2 \\\n",
    "    --fold 0 --gpus 1 --epochs 30 --logdir resnet3d152csnir1x24_mixup_ep30 --num_workers 6\n",
    "#--start_z 20 --end_z -21 --batch_size 16"
   ]
  },
  {
   "cell_type": "code",
   "execution_count": null,
   "id": "b27f9438",
   "metadata": {},
   "outputs": [],
   "source": [
    "!python train_patch_based_1/eval_tta_fp16.py --seed 2022 --batch_size 16 --image_size 192 --fold 0 --logdir resnet3d152csnir1x24_mixup_ep30 --num_workers 16"
   ]
  },
  {
   "cell_type": "code",
   "execution_count": null,
   "id": "98f91ae2",
   "metadata": {},
   "outputs": [],
   "source": []
  }
 ],
 "metadata": {
  "kernelspec": {
   "display_name": "Python 3 (ipykernel)",
   "language": "python",
   "name": "python3"
  },
  "language_info": {
   "codemirror_mode": {
    "name": "ipython",
    "version": 3
   },
   "file_extension": ".py",
   "mimetype": "text/x-python",
   "name": "python",
   "nbconvert_exporter": "python",
   "pygments_lexer": "ipython3",
   "version": "3.7.12"
  }
 },
 "nbformat": 4,
 "nbformat_minor": 5
}
